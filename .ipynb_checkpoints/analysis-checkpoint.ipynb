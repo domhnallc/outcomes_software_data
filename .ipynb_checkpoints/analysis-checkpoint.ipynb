{
 "cells": [
  {
   "cell_type": "raw",
   "id": "cee47acd-8b71-437a-9a2e-abea63b9b9aa",
   "metadata": {},
   "source": [
    "TODO:"
   ]
  },
  {
   "cell_type": "raw",
   "id": "638d8f23-d8ac-4302-aa58-9e97eb20983a",
   "metadata": {},
   "source": [
    "Load projects/outcomes_software_data/softwareandtechnicalproductsearch.csv"
   ]
  },
  {
   "cell_type": "raw",
   "id": "10325e1f-e222-43a0-9f38-9f3b11a8b90a",
   "metadata": {},
   "source": [
    "show descriptives"
   ]
  },
  {
   "cell_type": "raw",
   "id": "ea2573a5-182a-4ccd-ab86-177ecb4c6175",
   "metadata": {},
   "source": [
    "count per RO name"
   ]
  },
  {
   "cell_type": "raw",
   "id": "3244617f-b0d0-4055-bcf4-33c4ccf9ec45",
   "metadata": {},
   "source": [
    "count per PI"
   ]
  },
  {
   "cell_type": "raw",
   "id": "e90bc367-060a-4cf7-ad39-a762bd8f6f1b",
   "metadata": {},
   "source": [
    "count open sourced"
   ]
  },
  {
   "cell_type": "raw",
   "id": "86154c65-5369-44ed-b0df-2b8a82259085",
   "metadata": {},
   "source": [
    "count per year"
   ]
  },
  {
   "cell_type": "raw",
   "id": "c34a5583-c77b-4499-9449-99eb352f1172",
   "metadata": {},
   "source": [
    "check urls per open sourced\n"
   ]
  },
  {
   "cell_type": "raw",
   "id": "3238a021-eaeb-4c0d-87f9-4f98a3dd7530",
   "metadata": {},
   "source": [
    "count url errors"
   ]
  },
  {
   "cell_type": "raw",
   "id": "8a07443b-1179-4e5b-ba14-3afd8f73f4cf",
   "metadata": {},
   "source": [
    "categorize (e.g. commercial repo)"
   ]
  },
  {
   "cell_type": "raw",
   "id": "ad194f40-bbe3-45b5-8106-39e962ebb50f",
   "metadata": {},
   "source": [
    "SECONDARY categorize (e.g. github)"
   ]
  }
 ],
 "metadata": {
  "kernelspec": {
   "display_name": "Python 3 (ipykernel)",
   "language": "python",
   "name": "python3"
  },
  "language_info": {
   "codemirror_mode": {
    "name": "ipython",
    "version": 3
   },
   "file_extension": ".py",
   "mimetype": "text/x-python",
   "name": "python",
   "nbconvert_exporter": "python",
   "pygments_lexer": "ipython3",
   "version": "3.10.6"
  }
 },
 "nbformat": 4,
 "nbformat_minor": 5
}
